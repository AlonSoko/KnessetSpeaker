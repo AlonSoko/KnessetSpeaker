{
 "cells": [
  {
   "cell_type": "markdown",
   "id": "eb4ae904-bce5-4975-8acb-5109e639405f",
   "metadata": {},
   "source": [
    "# Init"
   ]
  },
  {
   "cell_type": "code",
   "execution_count": 1,
   "id": "557b5f57-4da2-42eb-9fcf-4bed30d2942c",
   "metadata": {},
   "outputs": [],
   "source": [
    "%load_ext autoreload\n",
    "%autoreload 2"
   ]
  },
  {
   "cell_type": "code",
   "execution_count": 2,
   "id": "5f98f315-0373-48ad-ae0e-a98a51beb06a",
   "metadata": {},
   "outputs": [],
   "source": [
    "import os\n",
    "import sys\n",
    "\n",
    "PROJECT_DIR = os.path.dirname(os.getcwd())\n",
    "\n",
    "# Add PROJECT_DIR to the system path\n",
    "sys.path.append(PROJECT_DIR)"
   ]
  },
  {
   "cell_type": "code",
   "execution_count": 3,
   "id": "01721cac-60ac-4b8e-8db4-f5b5288df299",
   "metadata": {
    "scrolled": true
   },
   "outputs": [],
   "source": [
    "from src.knesset_protocol import KnessetProtocol"
   ]
  },
  {
   "cell_type": "code",
   "execution_count": 4,
   "id": "fe8f809c-70cf-4269-ac82-066f88d746db",
   "metadata": {},
   "outputs": [],
   "source": [
    "import random\n",
    "\n",
    "NUMBER_OF_DOCUMENTS = 10\n",
    "\n",
    "# Get a list of all documents\n",
    "raw_data_path = os.path.join(PROJECT_DIR, \"data\", \"raw\")\n",
    "all_files = [f for f in os.listdir(raw_data_path) if os.path.isfile(os.path.join(raw_data_path, f))]\n",
    "\n",
    "# Randomly select 10 files\n",
    "selected_documents = random.sample(all_files, NUMBER_OF_DOCUMENTS)"
   ]
  },
  {
   "cell_type": "markdown",
   "id": "2efad0c6-080f-40f0-8d44-725b631a5d12",
   "metadata": {},
   "source": [
    "# Read from documents in evaluate mode (is_evalute=True)\n",
    "For each document, we will have 2 excel files:\n",
    "1. speaker_detection_evaluation - A dataframe of underlined text, recognized and speaker, and should've been recognized as speaker.\n",
    "   The latter will be manually filled by a human for evaluating how good the algorith is for detecting speakers in the underlined texts\n",
    "2. matching_evaluation - A dataframe of speakers, matched person, has match, and is match correct.\n",
    "   The latter will be manually filled by a human for evaluating how good the algorith is for\n",
    "   Matching speakers to Knesset members (or not matching non-Knesset-members to Knesset members)."
   ]
  },
  {
   "cell_type": "code",
   "execution_count": 5,
   "id": "02e83069-2294-48e0-abf2-791250ddb802",
   "metadata": {},
   "outputs": [
    {
     "name": "stdout",
     "output_type": "stream",
     "text": [
      "20_ptv_382866.docx\n",
      "Success!\n",
      "Elapsed time: 16.37 seconds\n",
      "\n",
      "20_ptv_343605.docx\n",
      "Success!\n",
      "Elapsed time: 15.91 seconds\n",
      "\n",
      "17_ptv_134504.docx\n",
      "Success!\n",
      "Elapsed time: 7.99 seconds\n",
      "\n",
      "14_ptv_486159.docx\n",
      "Could not parse protocol number!\n",
      "Elapsed time: 2.71 seconds\n",
      "\n",
      "17_ptv_134124.docx\n",
      "Success!\n",
      "Elapsed time: 4.15 seconds\n",
      "\n",
      "14_ptv_479044.docx\n",
      "Could not parse protocol number!\n",
      "Elapsed time: 2.45 seconds\n",
      "\n",
      "19_ptv_282617.docx\n",
      "Success!\n",
      "Elapsed time: 7.00 seconds\n",
      "\n",
      "20_ptv_343640.docx\n",
      "Success!\n",
      "Elapsed time: 11.81 seconds\n",
      "\n",
      "18_ptv_139134.docx\n",
      "Could not parse protocol number!\n",
      "Elapsed time: 2.48 seconds\n",
      "\n",
      "16_ptv_576455.docx\n",
      "Success!\n",
      "Elapsed time: 8.92 seconds\n",
      "\n",
      "15_ptm_532885.docx\n",
      "Success!\n",
      "Elapsed time: 41.31 seconds\n",
      "\n",
      "20_ptv_501433.docx\n",
      "Success!\n",
      "Elapsed time: 12.18 seconds\n",
      "\n",
      "18_ptv_138642.docx\n",
      "Success!\n",
      "Elapsed time: 21.02 seconds\n",
      "\n"
     ]
    }
   ],
   "source": [
    "import time\n",
    "import random\n",
    "\n",
    "NUMBER_OF_DOCUMENTS = 10\n",
    "RAW_DATA_PATH = os.path.join(PROJECT_DIR, \"data\", \"raw\")\n",
    "\n",
    "all_files = {f for f in os.listdir(raw_data_path) if os.path.isfile(os.path.join(raw_data_path, f))}\n",
    "chosen_files = set()\n",
    "\n",
    "counter = 0\n",
    "while counter < NUMBER_OF_DOCUMENTS:\n",
    "    document_name = random.choice(list(all_files.difference(chosen_files)))\n",
    "    chosen_files.add(document_name)\n",
    "    print(document_name)\n",
    "\n",
    "    start_time = time.perf_counter()\n",
    "    try:\n",
    "        protocol = KnessetProtocol(is_evaluation=True, document_path=os.path.join(raw_data_path, document_name))\n",
    "\n",
    "        print(\"Success!\")\n",
    "        # Only add to counter if it was successful\n",
    "        counter += 1\n",
    "    except Exception as e:\n",
    "        print(str(e))\n",
    "    finally:\n",
    "        end_time = time.perf_counter()\n",
    "        elapsed_time = end_time - start_time\n",
    "        print(f\"Elapsed time: {elapsed_time:.2f} seconds\")\n",
    "        print()"
   ]
  }
 ],
 "metadata": {
  "kernelspec": {
   "display_name": "Python 3 (ipykernel)",
   "language": "python",
   "name": "python3"
  },
  "language_info": {
   "codemirror_mode": {
    "name": "ipython",
    "version": 3
   },
   "file_extension": ".py",
   "mimetype": "text/x-python",
   "name": "python",
   "nbconvert_exporter": "python",
   "pygments_lexer": "ipython3",
   "version": "3.11.9"
  }
 },
 "nbformat": 4,
 "nbformat_minor": 5
}
